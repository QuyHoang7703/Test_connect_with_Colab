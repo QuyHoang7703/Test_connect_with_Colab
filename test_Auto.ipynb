{
  "cells": [
    {
      "cell_type": "code",
      "execution_count": 4,
      "metadata": {
        "colab": {
          "base_uri": "https://localhost:8080/"
        },
        "id": "FTw9mxqBubUI",
        "outputId": "769ea176-76a4-4f26-a7d8-c8441f248de7"
      },
      "outputs": [
        {
          "name": "stdout",
          "output_type": "stream",
          "text": [
            "helo 12345689\n"
          ]
        }
      ],
      "source": [
        "print(\"helo 12345689\")\n"
      ]
    }
  ],
  "metadata": {
    "kernelspec": {
      "display_name": "py39_2",
      "language": "python",
      "name": "python3"
    },
    "language_info": {
      "codemirror_mode": {
        "name": "ipython",
        "version": 3
      },
      "file_extension": ".py",
      "mimetype": "text/x-python",
      "name": "python",
      "nbconvert_exporter": "python",
      "pygments_lexer": "ipython3",
      "version": "3.9.19"
    }
  },
  "nbformat": 4,
  "nbformat_minor": 2
}
