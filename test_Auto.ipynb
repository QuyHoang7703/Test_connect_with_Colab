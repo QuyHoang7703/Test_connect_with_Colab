{
  "cells": [
    {
      "cell_type": "code",
      "execution_count": 15,
      "metadata": {
        "colab": {
          "base_uri": "https://localhost:8080/"
        },
        "id": "FTw9mxqBubUI",
        "outputId": "769ea176-76a4-4f26-a7d8-c8441f248de7"
      },
      "outputs": [
        {
          "name": "stdout",
          "output_type": "stream",
          "text": [
            "helo world\n"
          ]
        }
      ],
      "source": [
        "print(\"helo 123\")\n"
      ]
    }
  ]
}